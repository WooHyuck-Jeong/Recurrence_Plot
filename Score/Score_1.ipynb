{
 "cells": [
  {
   "cell_type": "code",
   "execution_count": 26,
   "metadata": {},
   "outputs": [],
   "source": [
    "import numpy as np\n",
    "import pandas as pd\n",
    "\n",
    "from math import ceil\n",
    "from numba import njit, prange\n",
    "from sklearn.base import BaseEstimator, TransformerMixin\n",
    "from sklearn.utils.validation import check_array\n",
    "from pyts.approximation import PiecewiseAggregateApproximation\n",
    "from keras.utils import np_utils\n",
    "\n",
    "import os\n",
    "import cv2\n",
    "import tensorflow as tf"
   ]
  },
  {
   "cell_type": "code",
   "execution_count": 27,
   "metadata": {},
   "outputs": [],
   "source": [
    "# npz file import\n",
    "\n",
    "Welding_data = np.load('E:/Result/ver.3.22/RP/RP.npz')\n",
    "\n",
    "X_data = Welding_data['X_data']\n",
    "y_data = Welding_data['y_data']\n",
    "i_data = Welding_data['i_data']\n",
    "\n",
    "Welding_data.close()"
   ]
  },
  {
   "cell_type": "code",
   "execution_count": 28,
   "metadata": {},
   "outputs": [],
   "source": [
    "seed = 7\n",
    "np.random.seed()\n",
    "\n",
    "from sklearn.model_selection import train_test_split\n",
    "\n",
    "X_train, X_test, y_train, y_test, i_train, i_test = train_test_split(X_data, y_data, i_data, test_size= 0.2, shuffle= True, random_state= seed)"
   ]
  },
  {
   "cell_type": "code",
   "execution_count": 29,
   "metadata": {},
   "outputs": [],
   "source": [
    "inputs = np.concatenate((X_train, X_test))\n",
    "targets = np.concatenate((y_train, y_test))\n",
    "index = np.concatenate((i_train, i_test))"
   ]
  },
  {
   "cell_type": "code",
   "execution_count": 30,
   "metadata": {},
   "outputs": [],
   "source": [
    "targets = np_utils.to_categorical(targets)"
   ]
  },
  {
   "cell_type": "code",
   "execution_count": 31,
   "metadata": {},
   "outputs": [
    {
     "name": "stdout",
     "output_type": "stream",
     "text": [
      "118\n",
      "1061\n",
      "-----------\n",
      "118\n",
      "1061\n",
      "-----------\n",
      "118\n",
      "1061\n",
      "-----------\n",
      "118\n",
      "1061\n",
      "-----------\n",
      "118\n",
      "1061\n",
      "-----------\n",
      "118\n",
      "1061\n",
      "-----------\n",
      "118\n",
      "1061\n",
      "-----------\n",
      "118\n",
      "1061\n",
      "-----------\n",
      "118\n",
      "1061\n",
      "-----------\n",
      "117\n",
      "1062\n",
      "-----------\n"
     ]
    }
   ],
   "source": [
    "# k-fold cross validation\n",
    "\n",
    "from keras.wrappers.scikit_learn import KerasClassifier\n",
    "from sklearn.model_selection import cross_val_score\n",
    "from sklearn.model_selection import KFold\n",
    "\n",
    "kfold = KFold(n_splits= 10, shuffle= True, random_state= seed)\n",
    "\n",
    "test= []\n",
    "train= []\n",
    "test_= []\n",
    "train_ =[]\n",
    "\n",
    "for train, test in kfold.split(inputs, targets):\n",
    "    print(len(test))\n",
    "    print(len(train))\n",
    "    \n",
    "    print('-----------')\n",
    "\n",
    "    for i in zip(test):\n",
    "        test_.append(i)\n",
    "        \n",
    "    for i in zip(train):\n",
    "        train_.append(i)"
   ]
  },
  {
   "cell_type": "code",
   "execution_count": 32,
   "metadata": {},
   "outputs": [],
   "source": [
    "train = train_[0:1061]\n",
    "train = np.reshape(train, 1061)\n",
    "test = test_[0:117]\n",
    "test = np.reshape(test, 117)"
   ]
  },
  {
   "cell_type": "code",
   "execution_count": 33,
   "metadata": {},
   "outputs": [
    {
     "name": "stdout",
     "output_type": "stream",
     "text": [
      "(117, 3)\n"
     ]
    }
   ],
   "source": [
    "from keras.models import load_model\n",
    "\n",
    "model= load_model('E:/Result/ver.3.22/RP/weight/RP_1.h5')\n",
    "\n",
    "y_predict = model.predict(inputs[test])\n",
    "print(y_predict.shape)\n",
    "y_predict_reshape = np.reshape(y_predict,351)\n",
    "\n",
    "list_y_predict_ = []\n",
    "\n",
    "for j in range(len(y_predict_reshape)):\n",
    "    y_predcit_Round = round(y_predict_reshape[j],0)\n",
    "    y_predict_int = int(y_predcit_Round)\n",
    "    list_y_predict_.append(y_predict_int)\n",
    "\n",
    "y_predict = np.array(list_y_predict_)"
   ]
  },
  {
   "cell_type": "code",
   "execution_count": 34,
   "metadata": {},
   "outputs": [],
   "source": [
    "y_predict = np.reshape(y_predict, (117,3))\n",
    "y_predict = np.argmax(y_predict, axis= 1)\n",
    "\n",
    "targets = np.argmax(targets[test], axis= 1)"
   ]
  },
  {
   "cell_type": "code",
   "execution_count": 35,
   "metadata": {},
   "outputs": [
    {
     "name": "stdout",
     "output_type": "stream",
     "text": [
      "ACC :  0.9914529914529915\n",
      "Precision : 0.9925925925925926\n",
      "Recall :  0.9895833333333334\n",
      "f1 : 0.9909636763569347\n"
     ]
    }
   ],
   "source": [
    "from sklearn.metrics import accuracy_score, precision_score, recall_score, f1_score\n",
    "\n",
    "Acc = accuracy_score(targets, y_predict)\n",
    "print(\"ACC : \", Acc)\n",
    "\n",
    "Precision = precision_score(targets, y_predict, average= \"macro\")\n",
    "print(\"Precision :\", Precision)\n",
    "\n",
    "Recall = recall_score(targets, y_predict, average= \"macro\")\n",
    "print(\"Recall : \", Recall)\n",
    "\n",
    "f1 = f1_score(targets, y_predict, average= \"macro\")\n",
    "print(\"f1 :\", f1)"
   ]
  },
  {
   "cell_type": "code",
   "execution_count": 36,
   "metadata": {},
   "outputs": [
    {
     "name": "stdout",
     "output_type": "stream",
     "text": [
      "Precision : [1.         1.         0.97777778]\n",
      "Recall : [1.      0.96875 1.     ]\n",
      "f1score : [1.         0.98412698 0.98876404]\n",
      "Accuracy : [41 32 44]\n"
     ]
    }
   ],
   "source": [
    "from sklearn.metrics import precision_recall_fscore_support as score\n",
    "\n",
    "Precision, Recall, f1score, support = score(targets, y_predict)\n",
    "\n",
    "print('Precision : {}'.format(Precision))\n",
    "print('Recall : {}'.format(Recall))\n",
    "print('f1score : {}'.format(f1score))\n",
    "print('Accuracy : {}'.format(support))"
   ]
  },
  {
   "cell_type": "code",
   "execution_count": null,
   "metadata": {},
   "outputs": [],
   "source": []
  }
 ],
 "metadata": {
  "interpreter": {
   "hash": "39d49c7061ba0d917ec37d51239e10a5889394828c5bb71d8cc6d95b45da79f0"
  },
  "kernelspec": {
   "display_name": "Python 3.8.12 ('SAS')",
   "language": "python",
   "name": "python3"
  },
  "language_info": {
   "codemirror_mode": {
    "name": "ipython",
    "version": 3
   },
   "file_extension": ".py",
   "mimetype": "text/x-python",
   "name": "python",
   "nbconvert_exporter": "python",
   "pygments_lexer": "ipython3",
   "version": "3.8.12"
  },
  "orig_nbformat": 4
 },
 "nbformat": 4,
 "nbformat_minor": 2
}
